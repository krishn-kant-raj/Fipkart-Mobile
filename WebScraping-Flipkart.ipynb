{
 "cells": [
  {
   "cell_type": "markdown",
   "metadata": {},
   "source": [
    "# Flipkart Mobile Details Scraping\n",
    "\n",
    "- Enter number of page to scrap and Brand name\n",
    "- URL is dynamic (Only for mobiles of some brand availabe in flipkart mibile section)\n",
    "\n",
    "- It will auto scrap the data then clean and save it for you in .CSV/.xlsx format.\n",
    "\n",
    "[Shorten Link Article](https://towardsdatascience.com/best-apis-for-url-shortening-using-python-2db09d1f86f0)\n",
    "\n",
    ">  **Brand Name**\n",
    "- Mi, Realme, Samsung, Infinix, Apple, OPPO, Vivo\n",
    "\n",
    "Author @ Krishn Kant Raj\n",
    "\n",
    "Dated: 14/05/2021"
   ]
  },
  {
   "cell_type": "code",
   "execution_count": null,
   "metadata": {},
   "outputs": [],
   "source": [
    "# !pip install bitly_api"
   ]
  },
  {
   "cell_type": "code",
   "execution_count": 1,
   "metadata": {},
   "outputs": [],
   "source": [
    "# import important libraries\n",
    "import requests\n",
    "from bs4 import BeautifulSoup\n",
    "import pandas as pd\n",
    "import numpy as np\n",
    "# import bitly_api\n",
    "\n",
    "# Bitly Access Token\n",
    "# BITLY_ACCESS_TOKEN = '749d6a714f1342aaced60e021f4a05ced8c7841d'\n",
    "# access = bitly_api.Connection(access_token = BITLY_ACCESS_TOKEN)"
   ]
  },
  {
   "cell_type": "code",
   "execution_count": 4,
   "metadata": {
    "scrolled": false
   },
   "outputs": [
    {
     "name": "stdout",
     "output_type": "stream",
     "text": [
      "Enter Mobile Brand Name : apple\n",
      "https://www.flipkart.com/mobiles/pr?sid=tyy%2C4io&otracker=categorytree&p%5B%5D=facets.brand%255B%255D%3DApple&otracker=nmenu_sub_Electronics_0_Apple\n",
      "Enter Numbers of Page to scrap: 2\n",
      "[INFO] Phones in Page 1 is 24\n",
      "[INFO] Shortening link...\n",
      "[INFO] Phones in Page 2 is 24\n",
      "[INFO] Shortening link...\n",
      "[INFO] Raw data scraped.\n",
      "\n",
      "***ACKNOWLEDGEMENT***\n",
      "Name Count= 48\n",
      "Price Count= 48\n",
      "Rating Count= 48\n",
      "Review Count= 48\n",
      "Links Count= 48\n"
     ]
    }
   ],
   "source": [
    "# Create empty lists\n",
    "Name = []\n",
    "Price = []\n",
    "Rating = []\n",
    "Review = []\n",
    "Links = []\n",
    "Image = []\n",
    "\n",
    "# Take input of brand name\n",
    "brand = input('Enter Mobile Brand Name : ')\n",
    "# Make it in title format\n",
    "brand = brand.title().split()\n",
    "# Take the brand name only\n",
    "brand = brand[0]\n",
    "    \n",
    "try:\n",
    "#     Dynamic URL\n",
    "    flipkart_url = f'https://www.flipkart.com/mobiles/pr?sid=tyy%2C4io&otracker=categorytree&p%5B%5D=facets.brand%255B%255D%3D{brand}&otracker=nmenu_sub_Electronics_0_{brand}'.format(brand)\n",
    "except InvalidSchema as er:\n",
    "    print(er)\n",
    "    print('Invalid Input')\n",
    "    \n",
    "# Show URL    \n",
    "print(flipkart_url)\n",
    "\n",
    "# Take how many page to scrap for given mobile brand \n",
    "pg_num = int(input('Enter Numbers of Page to scrap: '))\n",
    "\n",
    "for i in range(1,pg_num+1):\n",
    "    url = flipkart_url+\"&page=\"+str(i)\n",
    "    try:\n",
    "        req = requests.get(url)\n",
    "    except ConnectionError as er:\n",
    "        print(er)\n",
    "        print('Please check your connection!')\n",
    "    soup = BeautifulSoup(req.content, 'html.parser')\n",
    "    name = soup.find_all('div',{\"class\":\"_4rR01T\"})\n",
    "    price = soup.find_all('div',{\"class\":\"_30jeq3 _1_WHN1\"})\n",
    "    ratings_reviews = soup.find_all('span',{\"class\":\"_2_R_DZ\"})\n",
    "    links = soup.find_all('a',{'class':'_1fQZEK'})\n",
    "    img = soup.find_all('img',{'class':'_396cs4 _3exPp9'})\n",
    "    print(\"[INFO] Phones in Page \"+str(i)+' is '+str(len(name)))\n",
    "    \n",
    "    if len(name)==0:\n",
    "        print('Invalid URL! Please check the enered URL.')\n",
    "        exit(0)\n",
    "\n",
    "    for i in name:\n",
    "        Name.append(i.text)\n",
    "    for i in price:\n",
    "        Price.append(i.text)\n",
    "    for i in ratings_reviews:\n",
    "        Rating.append(i.span.span.text)\n",
    "        Review.append(i.span.text)\n",
    "    print('[INFO] Shortening link...')\n",
    "    for i in links:\n",
    "        linktext = 'https://www.flipkart.com'+i.get('href')\n",
    "#         short_url = access.shorten(linktext) \n",
    "#         Links.append(short_url['url'])\n",
    "        Links.append(linktext)\n",
    "    for i in img:\n",
    "        imglink = i.get('src')\n",
    "        Image.append(imglink)\n",
    "    \n",
    "print(\"[INFO] Raw data scraped.\")\n",
    "print('\\n***ACKNOWLEDGEMENT***')        \n",
    "print('Name Count=',len(Name))\n",
    "print('Price Count=',len(Price))\n",
    "print('Rating Count=',len(Rating))\n",
    "print('Review Count=',len(Review))\n",
    "print('Links Count=',len(Links))"
   ]
  },
  {
   "cell_type": "code",
   "execution_count": 5,
   "metadata": {},
   "outputs": [
    {
     "name": "stdout",
     "output_type": "stream",
     "text": [
      "Woo hoo! No missing Data found\n"
     ]
    }
   ],
   "source": [
    "if (len(Name)==len(Price) and len(Name)==len(Rating) and len(Name)==len(Review) and len(Name)==len(Links)):\n",
    "    print('Woo hoo! No missing Data found')\n",
    "if len(Price)<len(Name):\n",
    "    for i in range(0,(len(Name)-len(Price))):\n",
    "        Price.append('None')\n",
    "if len(Rating)<len(Name):\n",
    "    for i in range(0,(len(Name)-len(Rating))):\n",
    "        Rating.append('None')\n",
    "if len(Review)<len(Name):\n",
    "    for i in range(0,(len(Name)-len(Review))):\n",
    "        Review.append('None')\n",
    "if len(Links)<len(Name):\n",
    "    for i in range(0,(len(Name)-len(Links))):\n",
    "        Links.append('None')"
   ]
  },
  {
   "cell_type": "code",
   "execution_count": 6,
   "metadata": {
    "scrolled": true
   },
   "outputs": [
    {
     "name": "stdout",
     "output_type": "stream",
     "text": [
      "48\n",
      "48\n",
      "48\n",
      "48\n",
      "48\n"
     ]
    }
   ],
   "source": [
    "#  See missing data filled with None or not\n",
    "#  Get the length of all lists\n",
    "print(len(Name))\n",
    "print(len(Price))\n",
    "print(len(Review))\n",
    "print(len(Rating))\n",
    "print(len(Links))"
   ]
  },
  {
   "cell_type": "code",
   "execution_count": 7,
   "metadata": {},
   "outputs": [
    {
     "data": {
      "text/plain": [
       "['https://rukminim1.flixcart.com/image/312/312/kgiaykw0/mobile/y/n/y/apple-iphone-11-mhda3hn-a-original-imafwqepdb3fxtug.jpeg?q=70',\n",
       " 'https://rukminim1.flixcart.com/image/312/312/jnj7iq80/mobile/3/f/a/apple-iphone-xr-mry62hn-a-original-imafa6zkhyceh8dg.jpeg?q=70',\n",
       " 'https://rukminim1.flixcart.com/image/312/312/k0lbdzk0pkrrdj/mobile/s/p/d/apple-iphone-xr-mry42hn-a-original-imafbhyxurw8y7zg.jpeg?q=70',\n",
       " 'https://rukminim1.flixcart.com/image/312/312/kgiaykw0/mobile/c/u/7/apple-iphone-11-mhdd3hn-a-original-imafwqephghanvyr.jpeg?q=70',\n",
       " 'https://rukminim1.flixcart.com/image/312/312/jnj7iq80/mobile/y/q/d/apple-iphone-xr-mry52hn-a-original-imafa6zkfgwpnsgz.jpeg?q=70',\n",
       " 'https://rukminim1.flixcart.com/image/312/312/jnj7iq80/mobile/y/q/d/apple-iphone-xr-mry52hn-a-original-imafa6zkfgwpnsgz.jpeg?q=70',\n",
       " 'https://rukminim1.flixcart.com/image/312/312/k9loccw0/mobile/6/b/z/apple-iphone-se-mxd12hn-a-original-imafrcqfsuzwa3dz.jpeg?q=70',\n",
       " 'https://rukminim1.flixcart.com/image/312/312/jnj7iq80/mobile/r/k/h/apple-iphone-xr-mrya2hn-a-original-imafa6zkgrdrpuby.jpeg?q=70',\n",
       " 'https://rukminim1.flixcart.com/image/312/312/jnj7iq80/mobile/u/b/g/apple-iphone-xr-mryj2hn-a-original-imafa6zkm7qhv2zd.jpeg?q=70',\n",
       " 'https://rukminim1.flixcart.com/image/312/312/kgiaykw0/mobile/g/k/e/apple-iphone-11-mhdf3hn-a-original-imafwqepygpnkgez.jpeg?q=70',\n",
       " 'https://rukminim1.flixcart.com/image/312/312/jnj7iq80/mobile/u/b/g/apple-iphone-xr-mryj2hn-a-original-imafa6zkm7qhv2zd.jpeg?q=70',\n",
       " 'https://rukminim1.flixcart.com/image/312/312/k9loccw0/mobile/p/z/q/apple-iphone-se-mxd02hn-a-original-imafrcpjfehbbqgb.jpeg?q=70',\n",
       " 'https://rukminim1.flixcart.com/image/312/312/kgiaykw0/mobile/3/x/e/apple-iphone-11-mhdc3hn-a-original-imafwqepx5yxwctc.jpeg?q=70',\n",
       " 'https://rukminim1.flixcart.com/image/312/312/k9loccw0/mobile/p/z/q/apple-iphone-se-mxd02hn-a-original-imafrcpjfehbbqgb.jpeg?q=70',\n",
       " 'https://rukminim1.flixcart.com/image/312/312/k9loccw0/mobile/p/z/q/apple-iphone-se-mxd02hn-a-original-imafrcpjfehbbqgb.jpeg?q=70',\n",
       " 'https://rukminim1.flixcart.com/image/312/312/k9loccw0/mobile/6/b/z/apple-iphone-se-mxd12hn-a-original-imafrcqfsuzwa3dz.jpeg?q=70',\n",
       " 'https://rukminim1.flixcart.com/image/312/312/k9loccw0/mobile/6/8/g/apple-iphone-se-mxvv2hn-a-original-imafrcqmfxhcrpsb.jpeg?q=70',\n",
       " 'https://rukminim1.flixcart.com/image/312/312/k9loccw0/mobile/6/8/g/apple-iphone-se-mxvv2hn-a-original-imafrcqmfxhcrpsb.jpeg?q=70',\n",
       " 'https://rukminim1.flixcart.com/image/312/312/k9loccw0/mobile/6/8/g/apple-iphone-se-mxvv2hn-a-original-imafrcqmfxhcrpsb.jpeg?q=70',\n",
       " 'https://rukminim1.flixcart.com/image/312/312/k9loccw0/mobile/6/b/z/apple-iphone-se-mxd12hn-a-original-imafrcqfsuzwa3dz.jpeg?q=70',\n",
       " 'https://rukminim1.flixcart.com/image/312/312/kg8avm80/mobile/j/f/9/apple-iphone-12-dummyapplefsn-original-imafwg8dhe5aeyhk.jpeg?q=70',\n",
       " 'https://rukminim1.flixcart.com/image/312/312/kg8avm80/mobile/j/f/9/apple-iphone-12-dummyapplefsn-original-imafwg8dhe5aeyhk.jpeg?q=70',\n",
       " 'https://rukminim1.flixcart.com/image/312/312/kg8avm80/mobile/y/7/n/apple-iphone-12-dummyapplefsn-original-imafwg8dqq7z8cgh.jpeg?q=70',\n",
       " 'https://rukminim1.flixcart.com/image/312/312/kg8avm80/mobile/y/7/n/apple-iphone-12-dummyapplefsn-original-imafwg8dqq7z8cgh.jpeg?q=70',\n",
       " 'https://rukminim1.flixcart.com/image/312/312/kg8avm80/mobile/r/h/z/apple-iphone-12-dummyapplefsn-original-imafwg8dqgncgbcb.jpeg?q=70',\n",
       " 'https://rukminim1.flixcart.com/image/312/312/jnj7iq80/mobile/3/f/a/apple-iphone-xr-mry62hn-a-original-imafa6zkhyceh8dg.jpeg?q=70',\n",
       " 'https://rukminim1.flixcart.com/image/312/312/kg8avm80/mobile/u/c/d/apple-iphone-12-pro-dummyapplefsn-original-imafwgbrzhcushwk.jpeg?q=70',\n",
       " 'https://rukminim1.flixcart.com/image/312/312/ko0d6kw0/mobile/6/h/y/iphone-12-mjnm3hn-a-apple-original-imag2k2v6ehvnzfd.jpeg?q=70',\n",
       " 'https://rukminim1.flixcart.com/image/312/312/kg8avm80/mobile/q/8/f/apple-iphone-12-dummyapplefsn-original-imafwg8drqaam5vu.jpeg?q=70',\n",
       " 'https://rukminim1.flixcart.com/image/312/312/kg8avm80/mobile/u/c/d/apple-iphone-12-pro-dummyapplefsn-original-imafwgbrzhcushwk.jpeg?q=70',\n",
       " 'https://rukminim1.flixcart.com/image/312/312/kg8avm80/mobile/n/p/d/apple-iphone-12-mini-dummyapplefsn-original-imafwgbfwyzztfnh.jpeg?q=70',\n",
       " 'https://rukminim1.flixcart.com/image/312/312/kg8avm80/mobile/d/g/b/apple-iphone-12-mini-dummyapplefsn-original-imafwgbfhfevaajh.jpeg?q=70',\n",
       " 'https://rukminim1.flixcart.com/image/312/312/kg8avm80/mobile/d/g/b/apple-iphone-12-mini-dummyapplefsn-original-imafwgbfhfevaajh.jpeg?q=70',\n",
       " 'https://rukminim1.flixcart.com/image/312/312/kg8avm80/mobile/c/v/t/apple-iphone-12-pro-max-dummyapplefsn-original-imafwgcyyahey58k.jpeg?q=70',\n",
       " 'https://rukminim1.flixcart.com/image/312/312/kg8avm80/mobile/c/v/t/apple-iphone-12-pro-max-dummyapplefsn-original-imafwgcyyahey58k.jpeg?q=70',\n",
       " 'https://rukminim1.flixcart.com/image/312/312/kg8avm80/mobile/n/2/u/apple-iphone-12-mini-dummyapplefsn-original-imafwgbf4pvjhypq.jpeg?q=70',\n",
       " 'https://rukminim1.flixcart.com/image/312/312/kg8avm80/mobile/r/2/r/apple-iphone-12-mini-dummyapplefsn-original-imafwgbfcswp9fh5.jpeg?q=70',\n",
       " 'https://rukminim1.flixcart.com/image/312/312/kg8avm80/mobile/n/p/d/apple-iphone-12-mini-dummyapplefsn-original-imafwgbfwyzztfnh.jpeg?q=70',\n",
       " 'https://rukminim1.flixcart.com/image/312/312/k9loccw0/mobile/6/b/z/apple-iphone-se-mxd12hn-a-original-imafrcqfsuzwa3dz.jpeg?q=70',\n",
       " 'https://rukminim1.flixcart.com/image/312/312/ko0d6kw0/mobile/6/h/y/iphone-12-mjnm3hn-a-apple-original-imag2k2v6ehvnzfd.jpeg?q=70',\n",
       " 'https://rukminim1.flixcart.com/image/312/312/kg8avm80/mobile/u/q/d/apple-iphone-12-pro-dummyapplefsn-original-imafwgbrcgcar4rn.jpeg?q=70',\n",
       " 'https://rukminim1.flixcart.com/image/312/312/kg8avm80/mobile/q/8/f/apple-iphone-12-dummyapplefsn-original-imafwg8drqaam5vu.jpeg?q=70',\n",
       " 'https://rukminim1.flixcart.com/image/312/312/kg8avm80/mobile/b/v/a/apple-iphone-12-pro-dummyapplefsn-original-imafwgbrfngwbstc.jpeg?q=70',\n",
       " 'https://rukminim1.flixcart.com/image/312/312/kg8avm80/mobile/u/q/d/apple-iphone-12-pro-dummyapplefsn-original-imafwgbrcgcar4rn.jpeg?q=70',\n",
       " 'https://rukminim1.flixcart.com/image/312/312/k2jbyq80pkrrdj/mobile-refurbished/e/b/u/iphone-11-pro-max-64-a-mwhg2hn-a-apple-0-original-imafkg2fg3evmhuy.jpeg?q=70',\n",
       " 'https://rukminim1.flixcart.com/image/312/312/kg8avm80/mobile/s/9/w/apple-iphone-12-pro-dummyapplefsn-original-imafwgbr37gm57f7.jpeg?q=70',\n",
       " 'https://rukminim1.flixcart.com/image/312/312/kg8avm80/mobile/g/n/w/apple-iphone-12-pro-max-dummyapplefsn-original-imafwgcyhmehwy2z.jpeg?q=70',\n",
       " 'https://rukminim1.flixcart.com/image/312/312/kg8avm80/mobile/c/v/t/apple-iphone-12-pro-max-dummyapplefsn-original-imafwgcyyahey58k.jpeg?q=70']"
      ]
     },
     "execution_count": 7,
     "metadata": {},
     "output_type": "execute_result"
    }
   ],
   "source": [
    "Image"
   ]
  },
  {
   "cell_type": "code",
   "execution_count": null,
   "metadata": {},
   "outputs": [],
   "source": [
    "# Remove noise form price and clean it\n",
    "clean_price = []\n",
    "for i in range(len(Price)):\n",
    "    price = Price[i][1:].replace(',','')\n",
    "    clean_price.append(price)\n",
    "clean_price"
   ]
  },
  {
   "cell_type": "code",
   "execution_count": null,
   "metadata": {},
   "outputs": [],
   "source": [
    "# Extract Reviews counts\n",
    "# Clean the data\n",
    "clean_review = []\n",
    "for i in range(len(Review)):\n",
    "    if Review[i]=='None':\n",
    "        clean_review.append('None')\n",
    "    else:\n",
    "        Review_str = Review[i].split('\\xa0&\\xa0',1)[1]\n",
    "        Review_str = Review_str.replace(' Reviews','').replace(',','')\n",
    "        clean_review.append(Review_str)\n",
    "clean_review"
   ]
  },
  {
   "cell_type": "code",
   "execution_count": null,
   "metadata": {},
   "outputs": [],
   "source": [
    "# Extract Rating counts\n",
    "# clean the data\n",
    "clean_rating = []\n",
    "for i in range(len(Rating)):\n",
    "    if Rating[i]=='None':\n",
    "        clean_rating.append('None')\n",
    "    else:\n",
    "        Rating_str = Rating[i][:-1]\n",
    "        Rating_str = Rating_str.replace(' Ratings','').replace(',','')\n",
    "        clean_rating.append(Rating_str)\n",
    "clean_rating"
   ]
  },
  {
   "cell_type": "code",
   "execution_count": null,
   "metadata": {},
   "outputs": [],
   "source": [
    "# Create a dictionary and convert to dataframe\n",
    "data = {\n",
    "    'Product_Name':Name,\n",
    "    'Price':clean_price,\n",
    "    'Rating':clean_rating,\n",
    "    'Review':clean_review,\n",
    "    'Link':Links\n",
    "}\n",
    "data = pd.DataFrame(data)\n",
    "data"
   ]
  },
  {
   "cell_type": "code",
   "execution_count": null,
   "metadata": {},
   "outputs": [],
   "source": [
    "# Describe the data\n",
    "data.describe()"
   ]
  },
  {
   "cell_type": "code",
   "execution_count": null,
   "metadata": {},
   "outputs": [],
   "source": [
    "# If your string constraint is not just one string you can drop those corresponding rows with:\n",
    "# df = df[~df['your column'].isin(['list of strings'])]\n",
    "\n",
    "# Remove all rows having 'None' string\n",
    "data = data[~data.Rating.str.contains(\"None\")]"
   ]
  },
  {
   "cell_type": "code",
   "execution_count": null,
   "metadata": {},
   "outputs": [],
   "source": [
    "# Get the info\n",
    "data.info()"
   ]
  },
  {
   "cell_type": "code",
   "execution_count": null,
   "metadata": {},
   "outputs": [],
   "source": [
    "# convert all object to numeric form\n",
    "data[['Price','Rating','Review']] = data[['Price','Rating','Review']].astype(int)"
   ]
  },
  {
   "cell_type": "code",
   "execution_count": null,
   "metadata": {},
   "outputs": [],
   "source": [
    "# get updated info\n",
    "data.info()"
   ]
  },
  {
   "cell_type": "code",
   "execution_count": null,
   "metadata": {
    "scrolled": true
   },
   "outputs": [],
   "source": [
    "# Last five rows\n",
    "data.tail(5)"
   ]
  },
  {
   "cell_type": "code",
   "execution_count": null,
   "metadata": {},
   "outputs": [],
   "source": [
    "# First five rows\n",
    "data.head(5)"
   ]
  },
  {
   "cell_type": "code",
   "execution_count": null,
   "metadata": {},
   "outputs": [],
   "source": [
    "# Sample Data\n",
    "# Randomly selected\n",
    "data.sample(5)"
   ]
  },
  {
   "cell_type": "code",
   "execution_count": null,
   "metadata": {},
   "outputs": [],
   "source": [
    "# Save file with brand name\n",
    "filename = brand+'.xlsx'   \n",
    "try:    \n",
    "    writer = pd.ExcelWriter(filename, engine='xlsxwriter', options={'strings_to_urls': True})\n",
    "    data.to_excel(writer,index=False)\n",
    "    print(\"['INFO'] File saved successfully!\")\n",
    "except PermissionError as pr:\n",
    "    print(pr)\n",
    "    print('Close the pre opended file with same file name')\n",
    "writer.close()"
   ]
  }
 ],
 "metadata": {
  "kernelspec": {
   "display_name": "Python 3",
   "language": "python",
   "name": "python3"
  },
  "language_info": {
   "codemirror_mode": {
    "name": "ipython",
    "version": 3
   },
   "file_extension": ".py",
   "mimetype": "text/x-python",
   "name": "python",
   "nbconvert_exporter": "python",
   "pygments_lexer": "ipython3",
   "version": "3.7.3"
  }
 },
 "nbformat": 4,
 "nbformat_minor": 2
}
